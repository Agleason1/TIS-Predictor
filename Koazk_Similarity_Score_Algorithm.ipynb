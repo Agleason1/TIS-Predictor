{
 "cells": [
  {
   "cell_type": "code",
   "execution_count": 1,
   "metadata": {},
   "outputs": [],
   "source": [
    "import numpy as np "
   ]
  },
  {
   "cell_type": "code",
   "execution_count": 2,
   "metadata": {},
   "outputs": [],
   "source": [
    "#Kozak Consensus Scoring System\n",
    "\n",
    "#0=A, 1=T, 2=G, 3=C, 4=N (Missing)\n",
    "weights = np.array([\n",
    "       [0.04210526, 0.        , 0.03157895, 0.05263158, 0.        ],\n",
    "       [0.04210526, 0.05263158, 0.10526316, 0.0625    , 0.        ],\n",
    "       [0.03157895, 0.04210526, 0.05263158, 0.07368421, 0.        ],\n",
    "       [0.03157895, 0.01052632, 0.04210526, 0.05263158, 0.        ],\n",
    "       [0.08421053, 0.07368421, 0.18947368, 0.10526316, 0.        ],\n",
    "       [0.04210526, 0.05263158, 0.05263158, 0.08421053, 0.        ],\n",
    "       [0.12631579, 0.0625    , 0.12631579, 0.21052632, 0.        ],\n",
    "       [0.83157895, 0.12631579, 0.65263158, 0.16842105, 0.        ],\n",
    "       [0.15789474, 0.06315789, 0.11578947, 0.2       , 0.        ],\n",
    "       [0.21052632, 0.09473684, 0.31578947, 0.51578947, 0.        ],\n",
    "       [0.        , 0.        , 0.        , 0.        , 0.        ],\n",
    "       [0.        , 0.        , 0.        , 0.        , 0.        ],\n",
    "       [0.        , 0.        , 0.        , 0.        , 0.        ],\n",
    "       [0.24210526, 0.16666667, 0.53684211, 0.13684211, 0.        ],\n",
    "       [0.15789474, 0.09473684, 0.09473684, 0.24210526, 0.        ],\n",
    "       [0.05263158, 0.08421053, 0.14736842, 0.09473684, 0.        ],\n",
    "       [0.07216495, 0.05263158, 0.10526316, 0.06315789, 0.        ],\n",
    "       [0.        , 0.        , 0.        , 0.05263158, 0.        ],\n",
    "       [0.05263158, 0.05263158, 0.10526316, 0.09473684, 0.        ],\n",
    "       [0.04210526, 0.03157895, 0.05263158, 0.04210526, 0.        ],\n",
    "       [0.        , 0.        , 0.        , 0.        , 0.        ],\n",
    "       [0.04210526, 0.04210526, 0.08421053, 0.07368421, 0.        ],\n",
    "       [0.0625    , 0.04210526, 0.09473684, 0.05263158, 0.        ]\n",
    "])"
   ]
  },
  {
   "cell_type": "code",
   "execution_count": 3,
   "metadata": {},
   "outputs": [],
   "source": [
    "#Below function scores using consensus kozak motif scores\n",
    "def similarity_score(sequence):\n",
    "    \n",
    "    assert len(sequence)==23,'Sequence must be 23 bases long. Codon of interest must be centered, with 10 bases flanking both sides.'\n",
    "\n",
    "            \n",
    "    #We need consistency and flexibility:\n",
    "    sequence = sequence.upper()\n",
    "    for i in np.arange(len(sequence)):\n",
    "        if sequence[i] =='U':\n",
    "            sequence = sequence[0:i]+'T'+sequence[i+1:len(sequence)]\n",
    "    \n",
    "    numbers=[0]*len(sequence)\n",
    "    \n",
    "    for k in np.arange(len(sequence)):\n",
    "        if sequence[k]=='A':\n",
    "            numbers[k] = 0\n",
    "        elif sequence[k]=='T':\n",
    "            numbers[k] = 1\n",
    "        elif sequence[k]=='G':\n",
    "            numbers[k] = 2\n",
    "        elif sequence[k]=='C':\n",
    "            numbers[k] = 3\n",
    "        else:\n",
    "            numbers[k]=4\n",
    "                \n",
    "    \n",
    "    score = 0\n",
    "    for k in np.arange(len(numbers)):\n",
    "        score += weights[k][numbers[k]]\n",
    "            \n",
    "    max_score = np.sum(weights.max(axis=1))\n",
    "    \n",
    "    score = score/max_score\n",
    "    \n",
    "    #Final scoring value: we take the maximum possible score \n",
    "    #calculated, and return our score divided by the maximum (to normalize from range 0 to 1) \n",
    "    \n",
    "    return(score)"
   ]
  },
  {
   "cell_type": "code",
   "execution_count": 4,
   "metadata": {},
   "outputs": [
    {
     "data": {
      "text/plain": [
       "0.9999999999999998"
      ]
     },
     "execution_count": 4,
     "metadata": {},
     "output_type": "execute_result"
    }
   ],
   "source": [
    "similarity_score('CGCCGCCACCATGGCGGCGGAGG')"
   ]
  },
  {
   "cell_type": "code",
   "execution_count": 5,
   "metadata": {},
   "outputs": [
    {
     "data": {
      "text/plain": [
       "0.3040492944347353"
      ]
     },
     "execution_count": 5,
     "metadata": {},
     "output_type": "execute_result"
    }
   ],
   "source": [
    "similarity_score('GAATTATTTTATGCTATCATGAT')"
   ]
  },
  {
   "cell_type": "code",
   "execution_count": 6,
   "metadata": {},
   "outputs": [
    {
     "data": {
      "text/plain": [
       "0.273063380049891"
      ]
     },
     "execution_count": 6,
     "metadata": {},
     "output_type": "execute_result"
    }
   ],
   "source": [
    "similarity_score('NAATTATTTTATGCTATCATGNN')"
   ]
  }
 ],
 "metadata": {
  "kernelspec": {
   "display_name": "Python 3",
   "language": "python",
   "name": "python3"
  },
  "language_info": {
   "codemirror_mode": {
    "name": "ipython",
    "version": 3
   },
   "file_extension": ".py",
   "mimetype": "text/x-python",
   "name": "python",
   "nbconvert_exporter": "python",
   "pygments_lexer": "ipython3",
   "version": "3.6.10"
  }
 },
 "nbformat": 4,
 "nbformat_minor": 4
}
